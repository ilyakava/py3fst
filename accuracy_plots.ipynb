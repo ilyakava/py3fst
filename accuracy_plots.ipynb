{
 "cells": [
  {
   "cell_type": "code",
   "execution_count": null,
   "metadata": {},
   "outputs": [],
   "source": [
    "\"\"\"Plots accuracy figures.\n",
    "\"\"\""
   ]
  },
  {
   "cell_type": "code",
   "execution_count": 1,
   "metadata": {},
   "outputs": [],
   "source": [
    "import numpy as np\n",
    "import glob\n",
    "import os"
   ]
  },
  {
   "cell_type": "code",
   "execution_count": 2,
   "metadata": {},
   "outputs": [
    {
     "name": "stderr",
     "output_type": "stream",
     "text": [
      "/scratch0/ilya/locDoc/miniconda2/envs/venvtf/lib/python2.7/site-packages/h5py/__init__.py:36: FutureWarning: Conversion of the second argument of issubdtype from `float` to `np.floating` is deprecated. In future, it will be treated as `np.float64 == np.dtype(float).type`.\n",
      "  from ._conv import register_converters as _register_converters\n"
     ]
    }
   ],
   "source": [
    "from hsi_data import multiversion_matfile_get_field, dset_dims"
   ]
  },
  {
   "cell_type": "code",
   "execution_count": 3,
   "metadata": {},
   "outputs": [],
   "source": [
    "%matplotlib ipympl\n",
    "\n",
    "import matplotlib.pyplot as plt\n",
    "import matplotlib.image as mpimg\n",
    "import ipympl"
   ]
  },
  {
   "cell_type": "code",
   "execution_count": 9,
   "metadata": {},
   "outputs": [],
   "source": [
    "def load_npz_results_from_dirs(res_files):\n",
    "    \"\"\"\n",
    "    Args:\n",
    "      res_files: list<str>: list of full paths to results.npz files\n",
    "    Returns:\n",
    "      dir_results: dict< str, float >: maps mask name to accuracy\n",
    "    \"\"\"\n",
    "    dir_results = {}\n",
    "    for npz_name in res_files:\n",
    "        results = np.load(npz_name, allow_pickle=True)['results'].item()\n",
    "        k = results.keys()[0]\n",
    "        for k, v in results.iteritems():\n",
    "            if k in dir_results:\n",
    "                dir_results[k] = max(dir_results[k], v)\n",
    "            else:\n",
    "                dir_results[k] = v\n",
    "    return dir_results\n",
    "    "
   ]
  },
  {
   "cell_type": "code",
   "execution_count": 5,
   "metadata": {},
   "outputs": [],
   "source": [
    "# accumulate\n",
    "def results_hash_to_mean_std(dir_results, samples=[10,20,50,90], zfill_amount=2):\n",
    "    \"\"\"\n",
    "    Args:\n",
    "      dir_results: dict< str, float >: maps mask name to accuracy\n",
    "    \"\"\"\n",
    "    dir_y = []\n",
    "    dir_y_std = []\n",
    "    #samples = [5,10,20,50]\n",
    "    for samp in samples:\n",
    "        if samp < 1:\n",
    "            samp = int(samp * 10000)\n",
    "            as_str = '_p%s_' % str(samp).zfill(zfill_amount)\n",
    "        else:\n",
    "            as_str = '_s%s_' % str(samp).zfill(zfill_amount)\n",
    "        valids = [(k,v) for (k,v) in dir_results.iteritems() if as_str in k]\n",
    "        values = np.array([v for (k,v) in valids])\n",
    "        dir_y.append(values.mean())\n",
    "        dir_y_std.append(values.std())\n",
    "    return np.array(dir_y), np.array(dir_y_std)"
   ]
  },
  {
   "cell_type": "code",
   "execution_count": 6,
   "metadata": {},
   "outputs": [],
   "source": [
    "zfill_amount = 2\n",
    "samples = [10,20,50,90] # PU SSS\n",
    "# samples = [5,10,20,50] # KSC SSS\n",
    "samples = [3,5,10,20] # Dist\n",
    "# samples = [0.0200,0.0500,0.1000]\n",
    "samples = [0.005,0.0100,0.0200] # PU hi data\n",
    "zfill_amount = 4"
   ]
  },
  {
   "cell_type": "code",
   "execution_count": 11,
   "metadata": {},
   "outputs": [],
   "source": [
    "# paviaU distributed\n",
    "# samples\n",
    "samples = [5,10,20] # Dist\n",
    "zfill_amount = 2\n",
    "npz_name = '/scratch0/ilya/locDoc/pyfst/models/paviau_fst_third/SVM_results_6885902092.npz'\n",
    "results = np.load(npz_name, allow_pickle=True)['results'].item()\n",
    "fst_means, fst_stds = results_hash_to_mean_std(results, samples=samples, zfill_amount=zfill_amount)\n",
    "# dffn\n",
    "model_type_dir = '/scratch0/ilya/locDoc/pyfst/models/dffn'\n",
    "res_files = glob.glob(os.path.join(model_type_dir, 'PaviaU_distributed_trainval_s*/*/results.npz'))\n",
    "dir_results = load_npz_results_from_dirs(res_files)\n",
    "dffn_means, dffn_stds = results_hash_to_mean_std(dir_results, samples=samples, zfill_amount=zfill_amount)\n",
    "# eap\n",
    "model_type_dir = '/scratch0/ilya/locDoc/pyfst/models/eap'\n",
    "res_files = glob.glob(os.path.join(model_type_dir, 'PaviaU_distributed_trainval_s*/*/results.npz'))\n",
    "dir_results = load_npz_results_from_dirs(res_files)\n",
    "eap_means, eap_stds = results_hash_to_mean_std(dir_results, samples=samples, zfill_amount=zfill_amount)\n",
    "# raw\n",
    "npz_name = '/scratch0/ilya/locDoc/pyfst/models/pu_raw_svm/SVM_results_6410196752.npz'\n",
    "results = np.load(npz_name, allow_pickle=True)['results'].item()\n",
    "raw_means, raw_stds = results_hash_to_mean_std(results, samples=samples, zfill_amount=zfill_amount)\n",
    "# tang\n",
    "npz_name = '/scratch0/ilya/locDoc/pyfst/models/pu_tang_svm/SVM_results_1051942010.npz'\n",
    "results = np.load(npz_name, allow_pickle=True)['results'].item()\n",
    "tang_means, tang_stds = results_hash_to_mean_std(results, samples=samples, zfill_amount=zfill_amount)\n",
    "\n",
    "# percentages\n",
    "samples = [0.005,0.0100,0.0200] # PU hi data\n",
    "zfill_amount = 4\n",
    "npz_name = '/scratch0/ilya/locDoc/pyfst/models/paviau_fst_third/SVM_results_6885902092.npz'\n",
    "results = np.load(npz_name, allow_pickle=True)['results'].item()\n",
    "fst_means2, fst_stds2 = results_hash_to_mean_std(results, samples=samples, zfill_amount=zfill_amount)\n",
    "# dffn\n",
    "model_type_dir = '/scratch0/ilya/locDoc/pyfst/models/dffn'\n",
    "res_files = glob.glob(os.path.join(model_type_dir, 'PaviaU_distributed_trainval_p*/*/results.npz'))\n",
    "dir_results = load_npz_results_from_dirs(res_files)\n",
    "dffn_means2, dffn_stds2 = results_hash_to_mean_std(dir_results, samples=samples, zfill_amount=zfill_amount)\n",
    "# eap\n",
    "model_type_dir = '/scratch0/ilya/locDoc/pyfst/models/eap'\n",
    "res_files = glob.glob(os.path.join(model_type_dir, 'PaviaU_distributed_trainval_p*/*/results.npz'))\n",
    "dir_results = load_npz_results_from_dirs(res_files)\n",
    "eap_means2, eap_stds2 = results_hash_to_mean_std(dir_results, samples=samples, zfill_amount=zfill_amount)\n",
    "# raw\n",
    "npz_name = '/scratch0/ilya/locDoc/pyfst/models/pu_raw_svm/SVM_results_6410196752.npz'\n",
    "results = np.load(npz_name, allow_pickle=True)['results'].item()\n",
    "raw_means2, raw_stds2 = results_hash_to_mean_std(results, samples=samples, zfill_amount=zfill_amount)\n",
    "# tang\n",
    "npz_name = '/scratch0/ilya/locDoc/pyfst/models/pu_tang_svm/SVM_results_1051942010.npz'\n",
    "results = np.load(npz_name, allow_pickle=True)['results'].item()\n",
    "tang_means2, tang_stds2 = results_hash_to_mean_std(results, samples=samples, zfill_amount=zfill_amount)\n",
    "\n",
    "\n",
    "# concat\n",
    "fst_means = np.concatenate([fst_means, fst_means2])\n",
    "fst_stds = np.concatenate([fst_stds, fst_stds2])\n",
    "\n",
    "dffn_means = np.concatenate([dffn_means, dffn_means2])\n",
    "dffn_stds = np.concatenate([dffn_stds, dffn_stds2])\n",
    "\n",
    "eap_means = np.concatenate([eap_means, eap_means2])\n",
    "eap_stds = np.concatenate([eap_stds, eap_stds2])\n",
    "\n",
    "raw_means = np.concatenate([raw_means, raw_means2])\n",
    "raw_stds = np.concatenate([raw_stds, raw_stds2])\n",
    "\n",
    "tang_means = np.concatenate([tang_means, tang_means2])\n",
    "tang_stds = np.concatenate([tang_stds, tang_stds2])\n",
    "\n",
    "t = [s_ / (42776 / 9.0) for s_ in [5,10,20]] + [0.005,0.0100,0.0200]\n",
    "t = [100*s_ for s_ in t]\n"
   ]
  },
  {
   "cell_type": "code",
   "execution_count": 12,
   "metadata": {},
   "outputs": [
    {
     "data": {
      "application/vnd.jupyter.widget-view+json": {
       "model_id": "373f010437ea4fbc84b17136751db7d6",
       "version_major": 2,
       "version_minor": 0
      },
      "text/html": [
       "<p>Failed to display Jupyter Widget of type <code>FigureCanvasNbAgg</code>.</p>\n",
       "<p>\n",
       "  If you're reading this message in the Jupyter Notebook or JupyterLab Notebook, it may mean\n",
       "  that the widgets JavaScript is still loading. If this message persists, it\n",
       "  likely means that the widgets JavaScript library is either not installed or\n",
       "  not enabled. See the <a href=\"https://ipywidgets.readthedocs.io/en/stable/user_install.html\">Jupyter\n",
       "  Widgets Documentation</a> for setup instructions.\n",
       "</p>\n",
       "<p>\n",
       "  If you're reading this message in another frontend (for example, a static\n",
       "  rendering on GitHub or <a href=\"https://nbviewer.jupyter.org/\">NBViewer</a>),\n",
       "  it may mean that your frontend doesn't currently support widgets.\n",
       "</p>\n"
      ],
      "text/plain": [
       "FigureCanvasNbAgg()"
      ]
     },
     "metadata": {},
     "output_type": "display_data"
    },
    {
     "data": {
      "text/plain": [
       "Text(0.5,1,u'PaviaU')"
      ]
     },
     "execution_count": 12,
     "metadata": {},
     "output_type": "execute_result"
    }
   ],
   "source": [
    "plt.figure()\n",
    "\n",
    "plt.plot(t, fst_means, 'o-', color='blue')\n",
    "plt.fill_between(t, fst_means-fst_stds, fst_means+fst_stds, facecolor='blue', alpha=0.3)\n",
    "\n",
    "plt.plot(t, dffn_means, 'o-', color='orange')\n",
    "plt.fill_between(t, dffn_means-dffn_stds, dffn_means+dffn_stds, facecolor='orange', alpha=0.3)\n",
    "\n",
    "plt.plot(t, eap_means, 'o-', color='green')\n",
    "plt.fill_between(t, eap_means-eap_stds, eap_means+eap_stds, facecolor='green', alpha=0.3)\n",
    "\n",
    "plt.plot(t, raw_means, 'o-', color='purple')\n",
    "plt.fill_between(t, raw_means-raw_stds, raw_means+raw_stds, facecolor='purple', alpha=0.3)\n",
    "\n",
    "plt.plot(t, tang_means, 'o-', color='red')\n",
    "plt.fill_between(t, tang_means-tang_stds, tang_means+tang_stds, facecolor='red', alpha=0.3)\n",
    "\n",
    "plt.legend(['3D FST', 'DFFN', 'EAP', 'Raw', '3D WST'], loc=\"lower right\")\n",
    "plt.xlabel('Percentage Of Training Data')\n",
    "plt.ylabel('Overall Accuracy')\n",
    "plt.title('PaviaU')"
   ]
  },
  {
   "cell_type": "code",
   "execution_count": 13,
   "metadata": {},
   "outputs": [],
   "source": [
    "# IP distributed\n",
    "# samples\n",
    "samples = [5,10] # Dist\n",
    "zfill_amount = 2\n",
    "npz_name = '/scratch0/ilya/locDoc/pyfst/models/ip_fst_svm_third/SVM_results_7551061389.npz'\n",
    "results = np.load(npz_name, allow_pickle=True)['results'].item()\n",
    "fst_means, fst_stds = results_hash_to_mean_std(results, samples=samples, zfill_amount=zfill_amount)\n",
    "# dffn\n",
    "model_type_dir = '/scratch0/ilya/locDoc/pyfst/models/dffn'\n",
    "res_files = glob.glob(os.path.join(model_type_dir, 'IP_distributed_trainval_s*/*/results.npz'))\n",
    "dir_results = load_npz_results_from_dirs(res_files)\n",
    "dffn_means, dffn_stds = results_hash_to_mean_std(dir_results, samples=samples, zfill_amount=zfill_amount)\n",
    "# eap\n",
    "model_type_dir = '/scratch0/ilya/locDoc/pyfst/models/eap'\n",
    "res_files = glob.glob(os.path.join(model_type_dir, 'IP_distributed_trainval_s*/*/results.npz'))\n",
    "dir_results = load_npz_results_from_dirs(res_files)\n",
    "eap_means, eap_stds = results_hash_to_mean_std(dir_results, samples=samples, zfill_amount=zfill_amount)\n",
    "# raw\n",
    "npz_name = '/scratch0/ilya/locDoc/pyfst/models/ip_raw_svm/SVM_results_3322018531.npz'\n",
    "results = np.load(npz_name, allow_pickle=True)['results'].item()\n",
    "raw_means, raw_stds = results_hash_to_mean_std(results, samples=samples, zfill_amount=zfill_amount)\n",
    "# tang\n",
    "npz_name = '/scratch0/ilya/locDoc/pyfst/models/ip_tang_svm/SVM_results_4726895580.npz'\n",
    "results = np.load(npz_name, allow_pickle=True)['results'].item()\n",
    "tang_means, tang_stds = results_hash_to_mean_std(results, samples=samples, zfill_amount=zfill_amount)\n",
    "\n",
    "# percentages\n",
    "samples = [0.0200,0.0500,0.1000]\n",
    "zfill_amount = 4\n",
    "npz_name = '/scratch0/ilya/locDoc/pyfst/models/ip_fst_svm_third/SVM_results_7551061389.npz'\n",
    "results = np.load(npz_name, allow_pickle=True)['results'].item()\n",
    "fst_means2, fst_stds2 = results_hash_to_mean_std(results, samples=samples, zfill_amount=zfill_amount)\n",
    "# dffn\n",
    "model_type_dir = '/scratch0/ilya/locDoc/pyfst/models/dffn'\n",
    "res_files = glob.glob(os.path.join(model_type_dir, 'IP_distributed_trainval_p*/*/results.npz'))\n",
    "dir_results = load_npz_results_from_dirs(res_files)\n",
    "dffn_means2, dffn_stds2 = results_hash_to_mean_std(dir_results, samples=samples, zfill_amount=zfill_amount)\n",
    "# eap\n",
    "model_type_dir = '/scratch0/ilya/locDoc/pyfst/models/eap'\n",
    "res_files = glob.glob(os.path.join(model_type_dir, 'IP_distributed_trainval_p*/*/results.npz'))\n",
    "dir_results = load_npz_results_from_dirs(res_files)\n",
    "eap_means2, eap_stds2 = results_hash_to_mean_std(dir_results, samples=samples, zfill_amount=zfill_amount)\n",
    "# raw\n",
    "npz_name = '/scratch0/ilya/locDoc/pyfst/models/ip_raw_svm/SVM_results_3322018531.npz'\n",
    "results = np.load(npz_name, allow_pickle=True)['results'].item()\n",
    "raw_means2, raw_stds2 = results_hash_to_mean_std(results, samples=samples, zfill_amount=zfill_amount)\n",
    "# tang\n",
    "npz_name = '/scratch0/ilya/locDoc/pyfst/models/ip_tang_svm/SVM_results_4726895580.npz'\n",
    "results = np.load(npz_name, allow_pickle=True)['results'].item()\n",
    "tang_means2, tang_stds2 = results_hash_to_mean_std(results, samples=samples, zfill_amount=zfill_amount)\n",
    "\n",
    "\n",
    "# concat\n",
    "fst_means = np.concatenate([fst_means, fst_means2])\n",
    "fst_stds = np.concatenate([fst_stds, fst_stds2])\n",
    "\n",
    "dffn_means = np.concatenate([dffn_means, dffn_means2])\n",
    "dffn_stds = np.concatenate([dffn_stds, dffn_stds2])\n",
    "\n",
    "eap_means = np.concatenate([eap_means, eap_means2])\n",
    "eap_stds = np.concatenate([eap_stds, eap_stds2])\n",
    "\n",
    "raw_means = np.concatenate([raw_means, raw_means2])\n",
    "raw_stds = np.concatenate([raw_stds, raw_stds2])\n",
    "\n",
    "tang_means = np.concatenate([tang_means, tang_means2])\n",
    "tang_stds = np.concatenate([tang_stds, tang_stds2])\n",
    "\n",
    "t = [s_ / (10249 / 16.0) for s_ in [5,10]] + [0.0200,0.0500,0.1000]\n",
    "t = [100*s_ for s_ in t]\n",
    "# t = samples"
   ]
  },
  {
   "cell_type": "code",
   "execution_count": 14,
   "metadata": {},
   "outputs": [
    {
     "name": "stdout",
     "output_type": "stream",
     "text": [
      "Samples & 0.78 & 1.56 & 2.00 & 5.00 & 10.00 \\\\  \\hline\n",
      "FST & 60.41 ($\\pm$ 3.5) & 67.87 ($\\pm$ 2.0) & 82.21 ($\\pm$ 1.5) & 91.92 ($\\pm$ 0.9) & 96.69 ($\\pm$ 0.2) \\\\  \\hline\n"
     ]
    }
   ],
   "source": [
    "print(' & '.join(['Samples'] + ['%.2f' % s for s in t]) + ' \\\\\\\\  \\hline')\n",
    "print(' & '.join(['FST'] + ['%.2f ($\\pm$ %.1f)' % (100*m_, 100*s_) for (m_,s_) in zip(fst_means, fst_stds)]) + ' \\\\\\\\  \\hline')"
   ]
  },
  {
   "cell_type": "code",
   "execution_count": 15,
   "metadata": {},
   "outputs": [
    {
     "data": {
      "application/vnd.jupyter.widget-view+json": {
       "model_id": "ebe34c66ec5949538995134f8d93c00c",
       "version_major": 2,
       "version_minor": 0
      },
      "text/html": [
       "<p>Failed to display Jupyter Widget of type <code>FigureCanvasNbAgg</code>.</p>\n",
       "<p>\n",
       "  If you're reading this message in the Jupyter Notebook or JupyterLab Notebook, it may mean\n",
       "  that the widgets JavaScript is still loading. If this message persists, it\n",
       "  likely means that the widgets JavaScript library is either not installed or\n",
       "  not enabled. See the <a href=\"https://ipywidgets.readthedocs.io/en/stable/user_install.html\">Jupyter\n",
       "  Widgets Documentation</a> for setup instructions.\n",
       "</p>\n",
       "<p>\n",
       "  If you're reading this message in another frontend (for example, a static\n",
       "  rendering on GitHub or <a href=\"https://nbviewer.jupyter.org/\">NBViewer</a>),\n",
       "  it may mean that your frontend doesn't currently support widgets.\n",
       "</p>\n"
      ],
      "text/plain": [
       "FigureCanvasNbAgg()"
      ]
     },
     "metadata": {},
     "output_type": "display_data"
    },
    {
     "data": {
      "text/plain": [
       "Text(0.5,1,u'Indian Pines')"
      ]
     },
     "execution_count": 15,
     "metadata": {},
     "output_type": "execute_result"
    }
   ],
   "source": [
    "plt.figure()\n",
    "\n",
    "plt.plot(t, fst_means, 'o-', color='blue')\n",
    "plt.fill_between(t, fst_means-fst_stds, fst_means+fst_stds, facecolor='blue', alpha=0.3)\n",
    "\n",
    "plt.plot(t, dffn_means, 'o-', color='orange')\n",
    "plt.fill_between(t, dffn_means-dffn_stds, dffn_means+dffn_stds, facecolor='orange', alpha=0.3)\n",
    "\n",
    "plt.plot(t, eap_means, 'o-', color='green')\n",
    "plt.fill_between(t, eap_means-eap_stds, eap_means+eap_stds, facecolor='green', alpha=0.3)\n",
    "\n",
    "plt.plot(t, raw_means, 'o-', color='purple')\n",
    "plt.fill_between(t, raw_means-raw_stds, raw_means+raw_stds, facecolor='purple', alpha=0.3)\n",
    "\n",
    "plt.plot(t, tang_means, 'o-', color='red')\n",
    "plt.fill_between(t, tang_means-tang_stds, tang_means+tang_stds, facecolor='red', alpha=0.3)\n",
    "\n",
    "plt.legend(['3D FST', 'DFFN', 'EAP', 'Raw', '3D WST'], loc=\"lower right\")\n",
    "plt.xlabel('Percentage Of Training Data')\n",
    "plt.ylabel('Overall Accuracy')\n",
    "plt.title('Indian Pines')"
   ]
  },
  {
   "cell_type": "code",
   "execution_count": 16,
   "metadata": {},
   "outputs": [],
   "source": [
    "# KSC SSS\n",
    "# samples\n",
    "samples = [5,10,20,50] # Dist\n",
    "zfill_amount = 2\n",
    "npz_name = '/scratch0/ilya/locDoc/pyfst/models/ksc_distributed_svm/SVM_results_3933894883.npz'\n",
    "results = np.load(npz_name, allow_pickle=True)['results'].item()\n",
    "fst_means, fst_stds = results_hash_to_mean_std(results, samples=samples, zfill_amount=zfill_amount)\n",
    "# # dffn\n",
    "model_type_dir = '/scratch0/ilya/locDoc/pyfst/models/dffn'\n",
    "res_files = glob.glob(os.path.join(model_type_dir, 'KSC_strictsinglesite_trainval_s*/*/results.npz'))\n",
    "dir_results = load_npz_results_from_dirs(res_files)\n",
    "dffn_means, dffn_stds = results_hash_to_mean_std(dir_results, samples=samples, zfill_amount=zfill_amount)\n",
    "# # eap\n",
    "model_type_dir = '/scratch0/ilya/locDoc/pyfst/models/eap'\n",
    "res_files = glob.glob(os.path.join(model_type_dir, 'KSC_strictsinglesite_trainval_s*/*/results.npz'))\n",
    "dir_results = load_npz_results_from_dirs(res_files)\n",
    "eap_means, eap_stds = results_hash_to_mean_std(dir_results, samples=samples, zfill_amount=zfill_amount)\n",
    "# gabor\n",
    "npz_name = '/scratch0/ilya/locDoc/pyfst/models/KSC_raw_svm/SVM_results_8411790995.npz'\n",
    "results = np.load(npz_name, allow_pickle=True)['results'].item()\n",
    "raw_means, raw_stds = results_hash_to_mean_std(results, samples=samples, zfill_amount=zfill_amount)\n",
    "# tang\n",
    "npz_name = '/scratch0/ilya/locDoc/pyfst/models/KSC_tang_svm/SVM_results_4618754307.npz'\n",
    "results = np.load(npz_name, allow_pickle=True)['results'].item()\n",
    "tang_means, tang_stds = results_hash_to_mean_std(results, samples=samples, zfill_amount=zfill_amount)\n",
    "\n",
    "t = samples"
   ]
  },
  {
   "cell_type": "code",
   "execution_count": 17,
   "metadata": {},
   "outputs": [
    {
     "name": "stdout",
     "output_type": "stream",
     "text": [
      "Samples & 5 & 10 & 20 & 50 \\\\  \\hline\n",
      "FST & 66.26 ($\\pm$ 7.2) & 69.00 ($\\pm$ 5.4) & 70.23 ($\\pm$ 5.5) & 71.66 ($\\pm$ 6.6) \\\\  \\hline\n",
      "WST & 53.30 ($\\pm$ 5.5) & 59.44 ($\\pm$ 4.3) & 65.15 ($\\pm$ 4.9) & 68.60 ($\\pm$ 4.4) \\\\  \\hline\n",
      "DFFN & 56.27 ($\\pm$ 11.9) & 49.63 ($\\pm$ 13.7) & 59.07 ($\\pm$ 7.5) & 55.66 ($\\pm$ 8.0) \\\\  \\hline\n",
      "EAP & 56.64 ($\\pm$ 6.0) & 61.17 ($\\pm$ 5.7) & 64.29 ($\\pm$ 2.5) & 61.86 ($\\pm$ 4.5) \\\\  \\hline\n",
      "Raw & 62.79 ($\\pm$ 4.3) & 67.61 ($\\pm$ 4.1) & 71.58 ($\\pm$ 1.8) & 74.61 ($\\pm$ 2.8) \\\\  \\hline\n"
     ]
    }
   ],
   "source": [
    "print(' & '.join(['Samples'] + [str(s) for s in samples]) + ' \\\\\\\\  \\hline')\n",
    "print(' & '.join(['FST'] + ['%.2f ($\\pm$ %.1f)' % (100*m_, 100*s_) for (m_,s_) in zip(fst_means, fst_stds)]) + ' \\\\\\\\  \\hline')\n",
    "print(' & '.join(['WST'] + ['%.2f ($\\pm$ %.1f)' % (100*m_, 100*s_) for (m_,s_) in zip(tang_means, tang_stds)]) + ' \\\\\\\\  \\hline')\n",
    "print(' & '.join(['DFFN'] + ['%.2f ($\\pm$ %.1f)' % (100*m_, 100*s_) for (m_,s_) in zip(dffn_means, dffn_stds)]) + ' \\\\\\\\  \\hline')\n",
    "print(' & '.join(['EAP'] + ['%.2f ($\\pm$ %.1f)' % (100*m_, 100*s_) for (m_,s_) in zip(eap_means, eap_stds)]) + ' \\\\\\\\  \\hline')\n",
    "print(' & '.join(['Raw'] + ['%.2f ($\\pm$ %.1f)' % (100*m_, 100*s_) for (m_,s_) in zip(raw_means, raw_stds)]) + ' \\\\\\\\  \\hline')"
   ]
  },
  {
   "cell_type": "code",
   "execution_count": 18,
   "metadata": {},
   "outputs": [
    {
     "data": {
      "application/vnd.jupyter.widget-view+json": {
       "model_id": "0ec05f4090ab41629bfd7275de3f8cb1",
       "version_major": 2,
       "version_minor": 0
      },
      "text/html": [
       "<p>Failed to display Jupyter Widget of type <code>FigureCanvasNbAgg</code>.</p>\n",
       "<p>\n",
       "  If you're reading this message in the Jupyter Notebook or JupyterLab Notebook, it may mean\n",
       "  that the widgets JavaScript is still loading. If this message persists, it\n",
       "  likely means that the widgets JavaScript library is either not installed or\n",
       "  not enabled. See the <a href=\"https://ipywidgets.readthedocs.io/en/stable/user_install.html\">Jupyter\n",
       "  Widgets Documentation</a> for setup instructions.\n",
       "</p>\n",
       "<p>\n",
       "  If you're reading this message in another frontend (for example, a static\n",
       "  rendering on GitHub or <a href=\"https://nbviewer.jupyter.org/\">NBViewer</a>),\n",
       "  it may mean that your frontend doesn't currently support widgets.\n",
       "</p>\n"
      ],
      "text/plain": [
       "FigureCanvasNbAgg()"
      ]
     },
     "metadata": {},
     "output_type": "display_data"
    },
    {
     "data": {
      "text/plain": [
       "Text(0.5,1,u'KSC SSS')"
      ]
     },
     "execution_count": 18,
     "metadata": {},
     "output_type": "execute_result"
    }
   ],
   "source": [
    "plt.figure()\n",
    "\n",
    "plt.plot(t, fst_means, 'o-', color='blue')\n",
    "plt.fill_between(t, fst_means-fst_stds, fst_means+fst_stds, facecolor='blue', alpha=0.3)\n",
    "\n",
    "plt.plot(t, dffn_means, 'o-', color='orange')\n",
    "plt.fill_between(t, dffn_means-dffn_stds, dffn_means+dffn_stds, facecolor='orange', alpha=0.3)\n",
    "\n",
    "plt.plot(t, eap_means, 'o-', color='green')\n",
    "plt.fill_between(t, eap_means-eap_stds, eap_means+eap_stds, facecolor='green', alpha=0.3)\n",
    "\n",
    "plt.plot(t, raw_means, 'o-', color='red')\n",
    "plt.fill_between(t, raw_means-raw_stds, raw_means+raw_stds, facecolor='red', alpha=0.3)\n",
    "\n",
    "plt.legend(['FST', 'DFFN', 'EAP', 'Raw'])\n",
    "plt.title('KSC SSS')"
   ]
  },
  {
   "cell_type": "code",
   "execution_count": 19,
   "metadata": {},
   "outputs": [],
   "source": [
    "# PaviaU SSS\n",
    "# samples\n",
    "samples = [10,20,50,90] # Dist\n",
    "zfill_amount = 2\n",
    "npz_name = '/scratch0/ilya/locDoc/pyfst/models/paviau_fst_third/SVM_results_5633162149.npz'\n",
    "results = np.load(npz_name, allow_pickle=True)['results'].item()\n",
    "fst_means, fst_stds = results_hash_to_mean_std(results, samples=samples, zfill_amount=zfill_amount)\n",
    "# # dffn\n",
    "model_type_dir = '/scratch0/ilya/locDoc/pyfst/models/dffn'\n",
    "res_files = glob.glob(os.path.join(model_type_dir, 'PaviaU_strictsinglesite_trainval_s*/*/results.npz'))\n",
    "dir_results = load_npz_results_from_dirs(res_files)\n",
    "dffn_means, dffn_stds = results_hash_to_mean_std(dir_results, samples=samples, zfill_amount=zfill_amount)\n",
    "# # eap\n",
    "model_type_dir = '/scratch0/ilya/locDoc/pyfst/models/eap'\n",
    "res_files = glob.glob(os.path.join(model_type_dir, 'PaviaU_strictsinglesite_trainval_s*/*/results.npz'))\n",
    "dir_results = load_npz_results_from_dirs(res_files)\n",
    "eap_means, eap_stds = results_hash_to_mean_std(dir_results, samples=samples, zfill_amount=zfill_amount)\n",
    "# raw\n",
    "npz_name = '/scratch0/ilya/locDoc/pyfst/models/pu_raw_svm/SVM_results_4231370088.npz'\n",
    "results = np.load(npz_name, allow_pickle=True)['results'].item()\n",
    "raw_means, raw_stds = results_hash_to_mean_std(results, samples=samples, zfill_amount=zfill_amount)\n",
    "# tang\n",
    "npz_name = '/scratch0/ilya/locDoc/pyfst/models/pu_tang_svm/SVM_results_899180662.npz'\n",
    "results = np.load(npz_name, allow_pickle=True)['results'].item()\n",
    "tang_means, tang_stds = results_hash_to_mean_std(results, samples=samples, zfill_amount=zfill_amount)\n",
    "\n",
    "\n",
    "\n",
    "t = samples"
   ]
  },
  {
   "cell_type": "code",
   "execution_count": 20,
   "metadata": {},
   "outputs": [
    {
     "name": "stdout",
     "output_type": "stream",
     "text": [
      "Samples & 10 & 20 & 50 & 90 \\\\  \\hline\n",
      "FST & 50.13 ($\\pm$ 11.3) & 51.20 ($\\pm$ 9.6) & 57.05 ($\\pm$ 9.1) & 58.05 ($\\pm$ 8.5) \\\\  \\hline\n",
      "WST & 44.53 ($\\pm$ 8.7) & 48.01 ($\\pm$ 8.1) & 49.48 ($\\pm$ 8.5) & 51.59 ($\\pm$ 6.6) \\\\  \\hline\n",
      "DFFN & 43.36 ($\\pm$ 14.8) & 41.59 ($\\pm$ 16.2) & 49.31 ($\\pm$ 10.4) & 48.32 ($\\pm$ 6.4) \\\\  \\hline\n",
      "EAP & 49.29 ($\\pm$ 13.1) & 54.84 ($\\pm$ 9.9) & 57.31 ($\\pm$ 7.5) & 56.81 ($\\pm$ 8.7) \\\\  \\hline\n",
      "Raw & 50.74 ($\\pm$ 11.0) & 53.11 ($\\pm$ 8.9) & 55.21 ($\\pm$ 9.0) & 55.24 ($\\pm$ 7.3) \\\\  \\hline\n"
     ]
    }
   ],
   "source": [
    "print(' & '.join(['Samples'] + [str(s) for s in samples]) + ' \\\\\\\\  \\hline')\n",
    "print(' & '.join(['FST'] + ['%.2f ($\\pm$ %.1f)' % (100*m_, 100*s_) for (m_,s_) in zip(fst_means, fst_stds)]) + ' \\\\\\\\  \\hline')\n",
    "print(' & '.join(['WST'] + ['%.2f ($\\pm$ %.1f)' % (100*m_, 100*s_) for (m_,s_) in zip(tang_means, tang_stds)]) + ' \\\\\\\\  \\hline')\n",
    "print(' & '.join(['DFFN'] + ['%.2f ($\\pm$ %.1f)' % (100*m_, 100*s_) for (m_,s_) in zip(dffn_means, dffn_stds)]) + ' \\\\\\\\  \\hline')\n",
    "print(' & '.join(['EAP'] + ['%.2f ($\\pm$ %.1f)' % (100*m_, 100*s_) for (m_,s_) in zip(eap_means, eap_stds)]) + ' \\\\\\\\  \\hline')\n",
    "print(' & '.join(['Raw'] + ['%.2f ($\\pm$ %.1f)' % (100*m_, 100*s_) for (m_,s_) in zip(raw_means, raw_stds)]) + ' \\\\\\\\  \\hline')"
   ]
  },
  {
   "cell_type": "code",
   "execution_count": 22,
   "metadata": {},
   "outputs": [
    {
     "data": {
      "application/vnd.jupyter.widget-view+json": {
       "model_id": "4c293362e6b44d7190e51e72ff1fccaf",
       "version_major": 2,
       "version_minor": 0
      },
      "text/html": [
       "<p>Failed to display Jupyter Widget of type <code>FigureCanvasNbAgg</code>.</p>\n",
       "<p>\n",
       "  If you're reading this message in the Jupyter Notebook or JupyterLab Notebook, it may mean\n",
       "  that the widgets JavaScript is still loading. If this message persists, it\n",
       "  likely means that the widgets JavaScript library is either not installed or\n",
       "  not enabled. See the <a href=\"https://ipywidgets.readthedocs.io/en/stable/user_install.html\">Jupyter\n",
       "  Widgets Documentation</a> for setup instructions.\n",
       "</p>\n",
       "<p>\n",
       "  If you're reading this message in another frontend (for example, a static\n",
       "  rendering on GitHub or <a href=\"https://nbviewer.jupyter.org/\">NBViewer</a>),\n",
       "  it may mean that your frontend doesn't currently support widgets.\n",
       "</p>\n"
      ],
      "text/plain": [
       "FigureCanvasNbAgg()"
      ]
     },
     "metadata": {},
     "output_type": "display_data"
    },
    {
     "data": {
      "text/plain": [
       "Text(0.5,1,u'PaviaU SSS')"
      ]
     },
     "execution_count": 22,
     "metadata": {},
     "output_type": "execute_result"
    }
   ],
   "source": [
    "plt.figure()\n",
    "\n",
    "plt.plot(t, fst_means, 'o-', color='blue')\n",
    "plt.fill_between(t, fst_means-fst_stds, fst_means+fst_stds, facecolor='blue', alpha=0.3)\n",
    "\n",
    "plt.plot(t, dffn_means, 'o-', color='orange')\n",
    "plt.fill_between(t, dffn_means-dffn_stds, dffn_means+dffn_stds, facecolor='orange', alpha=0.3)\n",
    "\n",
    "plt.plot(t, eap_means, 'o-', color='green')\n",
    "plt.fill_between(t, eap_means-eap_stds, eap_means+eap_stds, facecolor='green', alpha=0.3)\n",
    "\n",
    "plt.plot(t, raw_means, 'o-', color='red')\n",
    "plt.fill_between(t, raw_means-raw_stds, raw_means+raw_stds, facecolor='red', alpha=0.3)\n",
    "\n",
    "plt.legend(['FST', 'DFFN', 'EAP', 'Raw'])\n",
    "plt.title('PaviaU SSS')"
   ]
  },
  {
   "cell_type": "code",
   "execution_count": 23,
   "metadata": {},
   "outputs": [],
   "source": [
    "# Bots SSS\n",
    "# samples\n",
    "samples = [3,5,10,20] # Dist\n",
    "zfill_amount = 2\n",
    "npz_name = '/scratch0/ilya/locDoc/pyfst/models/bots_fst/SVM_results_2793152297.npz'\n",
    "results = np.load(npz_name, allow_pickle=True)['results'].item()\n",
    "fst_means, fst_stds = results_hash_to_mean_std(results, samples=samples, zfill_amount=zfill_amount)\n",
    "# # dffn\n",
    "model_type_dir = '/scratch0/ilya/locDoc/pyfst/models/dffn'\n",
    "res_files = glob.glob(os.path.join(model_type_dir, 'Botswana_strictsinglesite_trainval_s*/*/results.npz'))\n",
    "dir_results = load_npz_results_from_dirs(res_files)\n",
    "dffn_means, dffn_stds = results_hash_to_mean_std(dir_results, samples=samples, zfill_amount=zfill_amount)\n",
    "# # eap\n",
    "model_type_dir = '/scratch0/ilya/locDoc/pyfst/models/eap'\n",
    "res_files = glob.glob(os.path.join(model_type_dir, 'Botswana_strictsinglesite_trainval_s*/*/results.npz'))\n",
    "dir_results = load_npz_results_from_dirs(res_files)\n",
    "eap_means, eap_stds = results_hash_to_mean_std(dir_results, samples=samples, zfill_amount=zfill_amount)\n",
    "# raw\n",
    "npz_name = '/scratch0/ilya/locDoc/pyfst/models/Botswana_raw_svm/SVM_results_1947462706.npz'\n",
    "results = np.load(npz_name, allow_pickle=True)['results'].item()\n",
    "raw_means, raw_stds = results_hash_to_mean_std(results, samples=samples, zfill_amount=zfill_amount)\n",
    "# tang\n",
    "npz_name = '/scratch0/ilya/locDoc/pyfst/models/Botswana_tang_svm/SVM_results_9172113203.npz'\n",
    "results = np.load(npz_name, allow_pickle=True)['results'].item()\n",
    "tang_means, tang_stds = results_hash_to_mean_std(results, samples=samples, zfill_amount=zfill_amount)\n",
    "# tang\n",
    "npz_name = '/scratch0/ilya/locDoc/pyfst/models/Botswana_tang_svm/SVM_results_9172113203.npz'\n",
    "results = np.load(npz_name, allow_pickle=True)['results'].item()\n",
    "tang_means, tang_stds = results_hash_to_mean_std(results, samples=samples, zfill_amount=zfill_amount)\n",
    "\n",
    "t = samples"
   ]
  },
  {
   "cell_type": "code",
   "execution_count": 24,
   "metadata": {},
   "outputs": [
    {
     "name": "stdout",
     "output_type": "stream",
     "text": [
      "Samples & 3 & 5 & 10 & 20 \\\\  \\hline\n",
      "FST & 76.51 ($\\pm$ 6.2) & 77.76 ($\\pm$ 3.4) & 79.54 ($\\pm$ 3.9) & 84.50 ($\\pm$ 2.6) \\\\  \\hline\n",
      "WST & 52.46 ($\\pm$ 4.9) & 56.26 ($\\pm$ 4.0) & 60.40 ($\\pm$ 3.9) & 68.90 ($\\pm$ 6.1) \\\\  \\hline\n",
      "DFFN & 32.96 ($\\pm$ 12.0) & 38.34 ($\\pm$ 10.6) & 40.81 ($\\pm$ 11.1) & 38.92 ($\\pm$ 4.2) \\\\  \\hline\n",
      "EAP & 66.43 ($\\pm$ 13.1) & 72.12 ($\\pm$ 5.4) & 72.25 ($\\pm$ 5.8) & 74.68 ($\\pm$ 6.4) \\\\  \\hline\n",
      "Raw & 70.98 ($\\pm$ 4.0) & 69.52 ($\\pm$ 4.2) & 75.67 ($\\pm$ 2.6) & 80.71 ($\\pm$ 2.1) \\\\  \\hline\n"
     ]
    }
   ],
   "source": [
    "print(' & '.join(['Samples'] + [str(s) for s in samples]) + ' \\\\\\\\  \\hline')\n",
    "print(' & '.join(['FST'] + ['%.2f ($\\pm$ %.1f)' % (100*m_, 100*s_) for (m_,s_) in zip(fst_means, fst_stds)]) + ' \\\\\\\\  \\hline')\n",
    "print(' & '.join(['WST'] + ['%.2f ($\\pm$ %.1f)' % (100*m_, 100*s_) for (m_,s_) in zip(tang_means, tang_stds)]) + ' \\\\\\\\  \\hline')\n",
    "print(' & '.join(['DFFN'] + ['%.2f ($\\pm$ %.1f)' % (100*m_, 100*s_) for (m_,s_) in zip(dffn_means, dffn_stds)]) + ' \\\\\\\\  \\hline')\n",
    "print(' & '.join(['EAP'] + ['%.2f ($\\pm$ %.1f)' % (100*m_, 100*s_) for (m_,s_) in zip(eap_means, eap_stds)]) + ' \\\\\\\\  \\hline')\n",
    "print(' & '.join(['Raw'] + ['%.2f ($\\pm$ %.1f)' % (100*m_, 100*s_) for (m_,s_) in zip(raw_means, raw_stds)]) + ' \\\\\\\\  \\hline')"
   ]
  },
  {
   "cell_type": "code",
   "execution_count": 25,
   "metadata": {},
   "outputs": [
    {
     "data": {
      "application/vnd.jupyter.widget-view+json": {
       "model_id": "1d1cf4d5a1f544a6b9cd33caffa46768",
       "version_major": 2,
       "version_minor": 0
      },
      "text/html": [
       "<p>Failed to display Jupyter Widget of type <code>FigureCanvasNbAgg</code>.</p>\n",
       "<p>\n",
       "  If you're reading this message in the Jupyter Notebook or JupyterLab Notebook, it may mean\n",
       "  that the widgets JavaScript is still loading. If this message persists, it\n",
       "  likely means that the widgets JavaScript library is either not installed or\n",
       "  not enabled. See the <a href=\"https://ipywidgets.readthedocs.io/en/stable/user_install.html\">Jupyter\n",
       "  Widgets Documentation</a> for setup instructions.\n",
       "</p>\n",
       "<p>\n",
       "  If you're reading this message in another frontend (for example, a static\n",
       "  rendering on GitHub or <a href=\"https://nbviewer.jupyter.org/\">NBViewer</a>),\n",
       "  it may mean that your frontend doesn't currently support widgets.\n",
       "</p>\n"
      ],
      "text/plain": [
       "FigureCanvasNbAgg()"
      ]
     },
     "metadata": {},
     "output_type": "display_data"
    },
    {
     "data": {
      "text/plain": [
       "Text(0.5,1,u'Botswana SSS')"
      ]
     },
     "execution_count": 25,
     "metadata": {},
     "output_type": "execute_result"
    }
   ],
   "source": [
    "plt.figure()\n",
    "\n",
    "plt.plot(t, fst_means, 'o-', color='blue')\n",
    "plt.fill_between(t, fst_means-fst_stds, fst_means+fst_stds, facecolor='blue', alpha=0.3)\n",
    "\n",
    "plt.plot(t, dffn_means, 'o-', color='orange')\n",
    "plt.fill_between(t, dffn_means-dffn_stds, dffn_means+dffn_stds, facecolor='orange', alpha=0.3)\n",
    "\n",
    "plt.plot(t, eap_means, 'o-', color='green')\n",
    "plt.fill_between(t, eap_means-eap_stds, eap_means+eap_stds, facecolor='green', alpha=0.3)\n",
    "\n",
    "plt.plot(t, raw_means, 'o-', color='red')\n",
    "plt.fill_between(t, raw_means-raw_stds, raw_means+raw_stds, facecolor='red', alpha=0.3)\n",
    "\n",
    "plt.plot(t, tang_means, 'o-', color='pink')\n",
    "plt.fill_between(t, tang_means-tang_stds, tang_means+tang_stds, facecolor='pink', alpha=0.3)\n",
    "\n",
    "plt.legend(['FST', 'DFFN', 'EAP', 'Raw', 'WST'])\n",
    "plt.title('Botswana SSS')"
   ]
  }
 ],
 "metadata": {
  "kernelspec": {
   "display_name": "Python 2",
   "language": "python",
   "name": "python2"
  },
  "language_info": {
   "codemirror_mode": {
    "name": "ipython",
    "version": 2
   },
   "file_extension": ".py",
   "mimetype": "text/x-python",
   "name": "python",
   "nbconvert_exporter": "python",
   "pygments_lexer": "ipython2",
   "version": "2.7.17"
  }
 },
 "nbformat": 4,
 "nbformat_minor": 2
}
