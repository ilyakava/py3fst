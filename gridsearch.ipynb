{
 "cells": [
  {
   "cell_type": "code",
   "execution_count": null,
   "metadata": {},
   "outputs": [],
   "source": [
    "\"\"\"Plots gridsearch figures.\n",
    "\"\"\""
   ]
  },
  {
   "cell_type": "code",
   "execution_count": null,
   "metadata": {},
   "outputs": [],
   "source": [
    "import numpy as np\n",
    "\n",
    "import os\n",
    "\n"
   ]
  },
  {
   "cell_type": "code",
   "execution_count": null,
   "metadata": {},
   "outputs": [],
   "source": [
    "from mpl_toolkits.mplot3d import Axes3D\n",
    "import matplotlib.pyplot as plt\n",
    "from matplotlib import cm\n",
    "from matplotlib.ticker import LinearLocator, FormatStrFormatter\n",
    "import numpy as np"
   ]
  },
  {
   "cell_type": "code",
   "execution_count": null,
   "metadata": {},
   "outputs": [],
   "source": [
    "import hyper_pixelNN as hsinn"
   ]
  },
  {
   "cell_type": "code",
   "execution_count": null,
   "metadata": {},
   "outputs": [],
   "source": [
    "%matplotlib ipympl\n",
    "\n",
    "import matplotlib.pyplot as plt\n",
    "import matplotlib.image as mpimg\n",
    "import ipympl"
   ]
  },
  {
   "cell_type": "code",
   "execution_count": null,
   "metadata": {},
   "outputs": [],
   "source": [
    "def str_to_spatial_spectral_receptive_field_size(s):\n",
    "    \"\"\"\n",
    "    Coming in in (b,h,w)\n",
    "    \"\"\"\n",
    "    filters = s.split('_')\n",
    "    filters = [f.split('-') for f in filters]\n",
    "    filters = [[int(n) for n in f] for f in filters]\n",
    "    psi1, psi2, phi = filters\n",
    "    b1,h1,_ = psi1\n",
    "    b2,h2,_ = psi2\n",
    "    b3,h3,_ = phi\n",
    "    # return (h1+h2+h3+2, b1+b2+b3+2)\n",
    "    # multiply by 3 in spectral bc there is downsampling there\n",
    "    return (h1+h2+h3-2, b1*3+b2*3+b3*3-2)"
   ]
  },
  {
   "cell_type": "code",
   "execution_count": null,
   "metadata": {},
   "outputs": [],
   "source": [
    "def results_to_grid(result_dict):\n",
    "\n",
    "    winds = set()\n",
    "    bands = set()\n",
    "    best_acc = 0\n",
    "    for k, v in result_dict.iteritems():\n",
    "        w, b = str_to_spatial_spectral_receptive_field_size(k)\n",
    "        winds.add(w)\n",
    "        bands.add(b)\n",
    "        best_acc = max(best_acc, sum(v) / float(len(v)))\n",
    "    winds = sorted(list(winds))\n",
    "    bands = sorted(list(bands))\n",
    "    Z = np.zeros((len(winds), len(bands)))\n",
    "#     Z[:,:] = np.nan\n",
    "    \n",
    "    for k, v in result_dict.iteritems():\n",
    "        w, b = str_to_spatial_spectral_receptive_field_size(k)\n",
    "        i = winds.index(w)\n",
    "        j = bands.index(b)\n",
    "        acc = sum(v) / float(len(v))\n",
    "        if acc == best_acc:\n",
    "            print('Best acc (%.1f) is for: %s' % (best_acc * 100, k) )\n",
    "        if Z[i,j] != 0:\n",
    "            print('Conflict: %s' % k)\n",
    "        if Z[i,j] < acc:\n",
    "            Z[i,j] = acc\n",
    "        \n",
    "    X, Y = np.meshgrid(np.array(bands),winds)\n",
    "    \n",
    "    return X, Y, Z"
   ]
  },
  {
   "cell_type": "code",
   "execution_count": null,
   "metadata": {},
   "outputs": [],
   "source": [
    "def tap2wavelength(M, dataset):\n",
    "    \"\"\"Converts tap lengths to nm for a dataset's spectral axis.\n",
    "    \"\"\"\n",
    "    return M*hsinn.bandwidth_dict[dataset]\n",
    "\n",
    "def tap2meters(M, dataset):\n",
    "    \"\"\"Converts tap lengths to meters for a dataset's spatial axis.\n",
    "    \"\"\"\n",
    "    return M*hsinn.spatial_res_dict[dataset] \n",
    "    "
   ]
  },
  {
   "cell_type": "code",
   "execution_count": null,
   "metadata": {},
   "outputs": [],
   "source": [
    "\n",
    "npz_name = '/scratch0/ilya/locDoc/pyfst/gridsearch_KSC_strictsinglesite_s50_10trials.npz'\n",
    "# npz_name = '/scratch0/ilya/locDoc/pyfst/gridsearch_IP_strictsinglesite_s20_10trials.npz'\n",
    "# npz_name = '/scratch0/ilya/locDoc/pyfst/gridsearch_Bots_singlesite_s20_10trials.npz'\n",
    "#npz_name = '/scratch0/ilya/locDoc/pyfst/gridsearch_paviaU_strictsingle_site_s20_10trials.npz'\n",
    "# npz_name = '/scratch0/ilya/locDoc/pyfst/gridsearch_paviaU_strictsingle_site_s90_10trials.npz'\n",
    "#npz_name = '/scratch0/ilya/locDoc/pyfst/gridsearch_paviaU_strictsingle_site_s50_10trials.npz'"
   ]
  },
  {
   "cell_type": "code",
   "execution_count": null,
   "metadata": {},
   "outputs": [],
   "source": [
    "results = np.load(npz_name)['results'].item()"
   ]
  },
  {
   "cell_type": "code",
   "execution_count": null,
   "metadata": {},
   "outputs": [],
   "source": [
    "X, Y, Z = results_to_grid(results)\n",
    "dataset = 'KSC'\n",
    "# dataset = 'Botswana'"
   ]
  },
  {
   "cell_type": "code",
   "execution_count": null,
   "metadata": {},
   "outputs": [],
   "source": [
    "chosen_result = '5-9-9_5-5-5_5-5-5'\n",
    "#chosen_result = '7-7-7_7-7-7_7-7-7'\n",
    "# chosen_result = '9-7-7_9-3-3_9-3-3'\n",
    "#chosen_result = '9-9-9_9-9-9_9-9-9'\n",
    "print(np.array(results[chosen_result]).std())\n",
    "np.argmin( np.abs((np.array(results[chosen_result]) - np.array(results[chosen_result]).mean())) )"
   ]
  },
  {
   "cell_type": "code",
   "execution_count": null,
   "metadata": {},
   "outputs": [],
   "source": [
    "X = tap2wavelength(X, dataset)\n",
    "Y = tap2meters(Y, dataset)"
   ]
  },
  {
   "cell_type": "code",
   "execution_count": null,
   "metadata": {},
   "outputs": [],
   "source": [
    "bi, bj = [Z.argmax() // Z.shape[1], Z.argmax() % Z.shape[1]]\n",
    "print('Best receptive field of %.2f m by %.2f nm' % (Y[bi,bj], X[bi,bj]))"
   ]
  },
  {
   "cell_type": "code",
   "execution_count": null,
   "metadata": {},
   "outputs": [],
   "source": [
    "plt.close('all')"
   ]
  },
  {
   "cell_type": "code",
   "execution_count": null,
   "metadata": {},
   "outputs": [],
   "source": [
    "fig = plt.figure()\n",
    "ax = fig.gca(projection='3d')\n",
    "\n",
    "real_Z = [z for z in Z.flatten() if not np.isnan(z)]\n",
    "\n",
    "# Plot the surface.\n",
    "# surf = ax.plot_surface(X, Y, Z, cmap=cm.coolwarm, linewidth=0, antialiased=False, vmin=min(real_Z), vmax=max(real_Z))\n",
    "\n",
    "# Plot the wireframe\n",
    "norm = plt.Normalize(Z.min(), Z.max())\n",
    "colors = cm.coolwarm(norm(Z))\n",
    "rcount, ccount, _ = colors.shape\n",
    "surf = ax.plot_surface(X, Y, Z, rcount=rcount, ccount=ccount,\n",
    "                       facecolors=colors, shade=False, linewidth=4)\n",
    "surf.set_facecolor((0,0,0,0))\n",
    "\n",
    "# Customize the z axis.\n",
    "\n",
    "ax.set_zlim(min(real_Z), max(real_Z))\n",
    "ax.zaxis.set_major_locator(LinearLocator(10))\n",
    "ax.zaxis.set_major_formatter(FormatStrFormatter('%.02f'))\n",
    "ax.set_xlabel('Spectral Receptive Field (nm)')\n",
    "ax.set_ylabel('Spatial Receptive Field (m)')\n",
    "ax.set_zlabel('Accuracy')\n",
    "\n",
    "# Add a color bar which maps values to colors.\n",
    "#fig.colorbar(surf, shrink=0.5, aspect=5)"
   ]
  },
  {
   "cell_type": "code",
   "execution_count": null,
   "metadata": {},
   "outputs": [],
   "source": []
  }
 ],
 "metadata": {
  "kernelspec": {
   "display_name": "Python 2",
   "language": "python",
   "name": "python2"
  },
  "language_info": {
   "codemirror_mode": {
    "name": "ipython",
    "version": 2
   },
   "file_extension": ".py",
   "mimetype": "text/x-python",
   "name": "python",
   "nbconvert_exporter": "python",
   "pygments_lexer": "ipython2",
   "version": "2.7.17"
  }
 },
 "nbformat": 4,
 "nbformat_minor": 2
}
