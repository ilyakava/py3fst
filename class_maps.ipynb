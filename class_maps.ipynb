{
 "cells": [
  {
   "cell_type": "code",
   "execution_count": null,
   "metadata": {},
   "outputs": [],
   "source": [
    "\"\"\"\n",
    "This notebook is for making full classification plots.\n",
    "\"\"\""
   ]
  },
  {
   "cell_type": "code",
   "execution_count": 1,
   "metadata": {},
   "outputs": [],
   "source": [
    "import numpy as np\n",
    "\n",
    "import os\n",
    "import scipy.io as sio\n",
    "import imageio\n"
   ]
  },
  {
   "cell_type": "code",
   "execution_count": 2,
   "metadata": {},
   "outputs": [],
   "source": [
    "%matplotlib ipympl\n",
    "\n",
    "import matplotlib.pyplot as plt\n",
    "import matplotlib.image as mpimg\n",
    "import ipympl"
   ]
  },
  {
   "cell_type": "code",
   "execution_count": 3,
   "metadata": {},
   "outputs": [],
   "source": [
    "pavia_class_map = [[192, 192, 192], [41, 253, 47], [45, 255, 253], [14, 126, 18], [250, 40, 251], [162, 81, 43], [126, 11, 123], [247, 9, 27], [254, 253, 56] ]\n",
    "botswana_class_map = [[77, 104, 255], [118, 149, 226], [237, 243, 57], [171, 153, 58], [236, 185, 46], [218, 2, 0], [124, 47, 225], [231, 254, 226], [105, 2, 0], [222, 217, 251], [248, 245, 139], [234, 179, 193], [175, 102, 41], [245, 245, 245]]\n",
    "ksc_class_map = [[136, 203, 71], [218, 0, 249], [192, 114, 27], [151, 34, 2], [31, 54, 5], [64, 0, 0], [255, 255, 255], [139, 132, 131], [255, 254, 174], [240, 196, 86], [122, 199, 251], [38, 65, 119], [1, 2, 248]]\n",
    "ip_class_map = [[98, 203, 178], [252, 40, 247], [212, 113, 29], [175, 31, 16], [22, 133, 250], [68, 1, 2], [254, 254, 254], [143, 133, 132], [255, 253, 175], [254, 196, 91], [66, 199, 45], [18, 90, 124], [7, 36, 249], [40, 220, 240], [160, 93, 150], [120, 40, 230]]"
   ]
  },
  {
   "cell_type": "code",
   "execution_count": 4,
   "metadata": {},
   "outputs": [],
   "source": [
    "def apply_colormap(img, class_map):\n",
    "    \"\"\"\n",
    "    class_map: list< list< int >( 3 ) >\n",
    "        maps classes to colors\n",
    "    \"\"\"\n",
    "    h, w = img.shape\n",
    "    new_img = np.zeros((h*w,3))\n",
    "    for i, p in enumerate(img.flatten()):\n",
    "        if p == -1:\n",
    "            new_img[i] = [0,0,0]\n",
    "        else:\n",
    "            new_img[i] = class_map[p]\n",
    "    new_img = new_img / 255.\n",
    "    return new_img.reshape((h,w,3))\n",
    "        "
   ]
  },
  {
   "cell_type": "code",
   "execution_count": 5,
   "metadata": {},
   "outputs": [],
   "source": [
    "npf = np.load('/scratch0/ilya/locDoc/pyfst/models/throw/Botswana_gt_SVM.npz')\n",
    "img_toshow = apply_colormap(npf['pred_image'], botswana_class_map)"
   ]
  },
  {
   "cell_type": "code",
   "execution_count": 6,
   "metadata": {},
   "outputs": [
    {
     "data": {
      "application/vnd.jupyter.widget-view+json": {
       "model_id": "3e62f24f352347b7bc48876664f10934",
       "version_major": 2,
       "version_minor": 0
      },
      "text/html": [
       "<p>Failed to display Jupyter Widget of type <code>FigureCanvasNbAgg</code>.</p>\n",
       "<p>\n",
       "  If you're reading this message in the Jupyter Notebook or JupyterLab Notebook, it may mean\n",
       "  that the widgets JavaScript is still loading. If this message persists, it\n",
       "  likely means that the widgets JavaScript library is either not installed or\n",
       "  not enabled. See the <a href=\"https://ipywidgets.readthedocs.io/en/stable/user_install.html\">Jupyter\n",
       "  Widgets Documentation</a> for setup instructions.\n",
       "</p>\n",
       "<p>\n",
       "  If you're reading this message in another frontend (for example, a static\n",
       "  rendering on GitHub or <a href=\"https://nbviewer.jupyter.org/\">NBViewer</a>),\n",
       "  it may mean that your frontend doesn't currently support widgets.\n",
       "</p>\n"
      ],
      "text/plain": [
       "FigureCanvasNbAgg()"
      ]
     },
     "metadata": {},
     "output_type": "display_data"
    },
    {
     "data": {
      "text/plain": [
       "<matplotlib.image.AxesImage at 0x7fd4b7c55990>"
      ]
     },
     "execution_count": 6,
     "metadata": {},
     "output_type": "execute_result"
    }
   ],
   "source": [
    "fig = plt.figure()\n",
    "ax = plt.Axes(fig, [0., 0., 1., 1.])\n",
    "ax.set_axis_off()\n",
    "fig.add_axes(ax)\n",
    "ax.imshow(img_toshow)"
   ]
  }
 ],
 "metadata": {
  "kernelspec": {
   "display_name": "Python 2",
   "language": "python",
   "name": "python2"
  },
  "language_info": {
   "codemirror_mode": {
    "name": "ipython",
    "version": 2
   },
   "file_extension": ".py",
   "mimetype": "text/x-python",
   "name": "python",
   "nbconvert_exporter": "python",
   "pygments_lexer": "ipython2",
   "version": "2.7.17"
  }
 },
 "nbformat": 4,
 "nbformat_minor": 2
}
