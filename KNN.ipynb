{
 "cells": [
  {
   "cell_type": "code",
   "execution_count": 20,
   "metadata": {},
   "outputs": [],
   "source": [
    "import itertools\n",
    "import os\n",
    "import h5py\n",
    "import hdf5storage\n",
    "\n",
    "import numpy as np\n",
    "import scipy.io as sio\n",
    "from sklearn.neighbors import KNeighborsClassifier\n",
    "import lightgbm as lgb\n",
    "from sklearn.svm import SVC"
   ]
  },
  {
   "cell_type": "code",
   "execution_count": 30,
   "metadata": {},
   "outputs": [],
   "source": [
    "DATA_PATH = '/scratch0/ilya/locDoc/data/hyperspec'\n",
    "#DATA_PATH = '/Users/artsyinc/Documents/MATH630/research/data/hyper'\n",
    "DATASET_PATH = '/scratch0/ilya/locDoc/data/hyperspec/datasets'\n",
    "#DATASET_PATH = '/Users/artsyinc/Documents/MATH630/research/data/hyper'\n",
    "coarsetraintestfilenames = ['PaviaU_gt_traintest_coarse_16px16p.mat', 'PaviaU_gt_traintest_coarse_32px32p.mat', 'PaviaU_gt_traintest_coarse_64px64p.mat', 'PaviaU_gt_traintest_coarse_128px128p.mat']\n",
    "unifttfiles = [ 'PaviaU_gt_traintest_s03_1_3f6384.mat', 'PaviaU_gt_traintest_s60_1_dd069a.mat', 'PaviaU_gt_traintest_s200_1_591636.mat']"
   ]
  },
  {
   "cell_type": "code",
   "execution_count": 168,
   "metadata": {},
   "outputs": [],
   "source": [
    "traintestfilename = unifttfiles[2]\n",
    "\n",
    "mat_contents = sio.loadmat(os.path.join(DATASET_PATH, 'PaviaU_gt.mat'))\n",
    "labels = mat_contents['paviaU_gt']\n",
    "height, width = labels.shape\n",
    "all_pixels = np.array(list(itertools.product(range(width),range(height))))\n",
    "flat_labels = labels.transpose().reshape(height*width)\n",
    "n_classes = len(set(flat_labels.tolist())) - 1\n",
    "\n",
    "mat_contents = None\n",
    "try:\n",
    "    mat_contents = sio.loadmat(os.path.join(DATA_PATH, traintestfilename))\n",
    "except:\n",
    "    mat_contents = hdf5storage.loadmat(os.path.join(DATA_PATH, traintestfilename))\n",
    "train_mask = mat_contents['train_mask'].astype(int).squeeze()\n",
    "test_mask = mat_contents['test_mask'].astype(int).squeeze()\n",
    "\n",
    "trainX = np.array(filter(lambda (x,y): labels[y,x]*train_mask[x*height+y] != 0, all_pixels))\n",
    "trainY = flat_labels[train_mask==1]\n",
    "testX = np.array(filter(lambda (x,y): labels[y,x]*test_mask[x*height+y] != 0, all_pixels))\n",
    "testY = flat_labels[test_mask==1]\n"
   ]
  },
  {
   "cell_type": "code",
   "execution_count": 123,
   "metadata": {},
   "outputs": [],
   "source": [
    "classifier = KNeighborsClassifier(n_neighbors=1)"
   ]
  },
  {
   "cell_type": "code",
   "execution_count": 124,
   "metadata": {},
   "outputs": [],
   "source": [
    "classifier.fit(trainX, trainY)\n",
    "y_pred = classifier.predict(testX)"
   ]
  },
  {
   "cell_type": "code",
   "execution_count": 125,
   "metadata": {},
   "outputs": [
    {
     "data": {
      "text/plain": [
       "0.7418161931300294"
      ]
     },
     "execution_count": 125,
     "metadata": {},
     "output_type": "execute_result"
    }
   ],
   "source": [
    "sum(y_pred == testY) / float(len(testY))"
   ]
  },
  {
   "cell_type": "markdown",
   "metadata": {},
   "source": [
    "### Classify raw spectra feat"
   ]
  },
  {
   "cell_type": "code",
   "execution_count": 169,
   "metadata": {},
   "outputs": [],
   "source": [
    "mat_contents = sio.loadmat(os.path.join(DATASET_PATH, 'PaviaU.mat'))\n",
    "data = mat_contents['paviaU'].astype(np.float32)\n",
    "data /= np.max(np.abs(data))\n",
    "nbands = data.shape[2]\n",
    "\n",
    "trainX_spec = np.zeros((train_mask.sum(),nbands), dtype=np.float32)\n",
    "testX_spec = np.zeros((test_mask.sum(),nbands), dtype=np.float32)\n",
    "\n",
    "for pixel_i, pixel in enumerate(trainX):\n",
    "    # this iterates through columns first\n",
    "    [pixel_x, pixel_y] = pixel\n",
    "    trainX_spec[pixel_i,:] = data[pixel_y:(pixel_y+1), pixel_x:(pixel_x+1), :]\n",
    "\n",
    "for pixel_i, pixel in enumerate(testX):\n",
    "    # this iterates through columns first\n",
    "    [pixel_x, pixel_y] = pixel\n",
    "    testX_spec[pixel_i,:] = data[pixel_y:(pixel_y+1), pixel_x:(pixel_x+1), :]"
   ]
  },
  {
   "cell_type": "markdown",
   "metadata": {},
   "source": [
    "#### SVM"
   ]
  },
  {
   "cell_type": "code",
   "execution_count": 170,
   "metadata": {},
   "outputs": [
    {
     "data": {
      "text/plain": [
       "SVC(C=1.0, cache_size=200, class_weight=None, coef0=0.0,\n",
       "  decision_function_shape='ovr', degree=3, gamma='auto', kernel='linear',\n",
       "  max_iter=-1, probability=False, random_state=None, shrinking=True,\n",
       "  tol=0.001, verbose=False)"
      ]
     },
     "execution_count": 170,
     "metadata": {},
     "output_type": "execute_result"
    }
   ],
   "source": [
    "clf = SVC(kernel='linear')\n",
    "clf.fit(trainX_spec, trainY)"
   ]
  },
  {
   "cell_type": "code",
   "execution_count": 171,
   "metadata": {},
   "outputs": [],
   "source": [
    "y_pred_svm = clf.predict(testX_spec)"
   ]
  },
  {
   "cell_type": "code",
   "execution_count": 172,
   "metadata": {},
   "outputs": [
    {
     "data": {
      "text/plain": [
       "0.6522842639593909"
      ]
     },
     "execution_count": 172,
     "metadata": {},
     "output_type": "execute_result"
    }
   ],
   "source": [
    "sum(y_pred_svm == testY) / float(len(testY))"
   ]
  },
  {
   "cell_type": "code",
   "execution_count": 130,
   "metadata": {},
   "outputs": [
    {
     "data": {
      "text/plain": [
       "(4377, 103)"
      ]
     },
     "execution_count": 130,
     "metadata": {},
     "output_type": "execute_result"
    }
   ],
   "source": [
    "trainX_spec.shape"
   ]
  },
  {
   "cell_type": "markdown",
   "metadata": {},
   "source": [
    "#### SVM on loc + spec"
   ]
  },
  {
   "cell_type": "code",
   "execution_count": 173,
   "metadata": {},
   "outputs": [],
   "source": [
    "trainX_combo = np.concatenate([trainX, trainX_spec], axis=1)\n",
    "testX_combo = np.concatenate([testX, testX_spec], axis=1)"
   ]
  },
  {
   "cell_type": "code",
   "execution_count": 174,
   "metadata": {},
   "outputs": [
    {
     "data": {
      "text/plain": [
       "SVC(C=1.0, cache_size=200, class_weight=None, coef0=0.0,\n",
       "  decision_function_shape='ovr', degree=3, gamma='auto', kernel='linear',\n",
       "  max_iter=-1, probability=False, random_state=None, shrinking=True,\n",
       "  tol=0.001, verbose=False)"
      ]
     },
     "execution_count": 174,
     "metadata": {},
     "output_type": "execute_result"
    }
   ],
   "source": [
    "clf = SVC(kernel='linear')\n",
    "clf.fit(trainX_combo, trainY)"
   ]
  },
  {
   "cell_type": "code",
   "execution_count": 175,
   "metadata": {},
   "outputs": [],
   "source": [
    "y_pred_svm = clf.predict(testX_combo)"
   ]
  },
  {
   "cell_type": "code",
   "execution_count": 176,
   "metadata": {},
   "outputs": [
    {
     "data": {
      "text/plain": [
       "0.8955974228816869"
      ]
     },
     "execution_count": 176,
     "metadata": {},
     "output_type": "execute_result"
    }
   ],
   "source": [
    "sum(y_pred_svm == testY) / float(len(testY))"
   ]
  },
  {
   "cell_type": "markdown",
   "metadata": {},
   "source": [
    "#### LGB"
   ]
  },
  {
   "cell_type": "code",
   "execution_count": null,
   "metadata": {},
   "outputs": [
    {
     "data": {
      "text/plain": [
       "LGBMClassifier(boosting_type='gbdt', class_weight=None, colsample_bytree=1.0,\n",
       "        importance_type='split', learning_rate=0.1, max_depth=-1,\n",
       "        metric='multi_logloss', min_child_samples=20,\n",
       "        min_child_weight=0.001, min_split_gain=0.0, n_estimators=100,\n",
       "        n_jobs=-1, num_class=9, num_leaves=31, objective='multiclass',\n",
       "        random_state=None, reg_alpha=0.0, reg_lambda=0.0, silent=True,\n",
       "        subsample=1.0, subsample_for_bin=200000, subsample_freq=0)"
      ]
     },
     "execution_count": 131,
     "metadata": {},
     "output_type": "execute_result"
    }
   ],
   "source": [
    "lgbclassifier = lgb.LGBMClassifier(objective='multiclass', num_class=n_classes, metric='multi_logloss')\n",
    "lgbclassifier.fit(trainX_spec, trainY)"
   ]
  },
  {
   "cell_type": "code",
   "execution_count": null,
   "metadata": {},
   "outputs": [],
   "source": [
    "y_pred_lgb = lgbclassifier.predict(testX_spec)"
   ]
  },
  {
   "cell_type": "code",
   "execution_count": null,
   "metadata": {},
   "outputs": [],
   "source": [
    "sum(y_pred_lgb == testY) / float(len(testY))"
   ]
  },
  {
   "cell_type": "code",
   "execution_count": null,
   "metadata": {},
   "outputs": [],
   "source": []
  }
 ],
 "metadata": {
  "kernelspec": {
   "display_name": "Python 2",
   "language": "python",
   "name": "python2"
  },
  "language_info": {
   "codemirror_mode": {
    "name": "ipython",
    "version": 2
   },
   "file_extension": ".py",
   "mimetype": "text/x-python",
   "name": "python",
   "nbconvert_exporter": "python",
   "pygments_lexer": "ipython2",
   "version": "2.7.17"
  }
 },
 "nbformat": 4,
 "nbformat_minor": 2
}
